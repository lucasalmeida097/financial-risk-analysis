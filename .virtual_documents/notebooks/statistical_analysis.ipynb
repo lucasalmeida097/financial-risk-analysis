


import yfinance as yf
import pandas as pd
import numpy as np
import matplotlib.pyplot as plt
import seaborn as sns
from scipy.stats import skew, kurtosis, norm

sns.set(style="whitegrid")
plt.rcParams["figure.figsize"] = (12,6)





def fetch_and_prepare_data(ticker: str, start="2010-01-01", end=None):
    df = yf.download(ticker, start=start, end=end)
    df = df[["Close"]].rename(columns={"Close": "adjusted_close"})
    df["daily_return"] = df["adjusted_close"].pct_change()
    return df.dropna()

ticker = "BBDC3.SA"
df = fecth_and_prepare_data(ticker)





stats = df["daily_return"].describe()
print(f"📈 Estatísticas Descritivas de Retornos Diários para {ticker}:")
display(stats)

mean = df["daily_return"].mean()
std = df["daily_return"].std()
skewness = skew(df["daily_return"])
kurt = kurtosis(df["daily_return"])

print(f"\nMédia: {mean:.4%}")
print(f"Desvio Padrão: {std:.4%}")
print(f"Assimetria (Skewness): {skewness:.4f}")
print(f"Curtose: {kurt:.4f}")





sns.histplot(df["daily_return"], bins=50, kde=True, color="skyblue")
plt.title(f"Distribuição de Retornos Diários - {ticker}")
plt.xlabel("Retorno Diário")
plt.ylabel("Frequência")
plt.show()


annual_volatility = df["daily_return"].std() * np.sqrt(252)
confidence_level = 0.95
VaR_95 = np.percentile(df["daily_return"], (1 -  confidence_level) * 100) 
VaR_parametric = norm.ppf(1 - confidence_level, df["daily_return"].mean(), df["daily_return"].std())

print(f"📌 Volatilidade Anualizada: {annual_volatility:.2%}")
print(f"📌 VaR Histórico (95%): {VaR_95:.2%}")
print(f"📌 VaR Paramétrico Normal (95%): {VaR_parametric:.2%}")





tickers = ["BBDC3.SA", "ITUB4.SA", "BBAS3.SA"]
returns = {}
all_data = {}

for t in tickers:
    df_temp = fetch_and_prepare_data(t)
    all_data[t] = df_temp
    returns[t] = df_temp["daily_return"]

returns_df = pd.DataFrame(returns).dropna()
display(returns_df.head())
display(returns_df.describe().T[["mean", "std"]].rename(columns={"mean": "Média", "std": "Desvio Padrão"}))





return_melted = returns_df.reset_index().melt(id_vars="Date", var_name="Ativo", value_name="Retorno")
sns.boxplot(data=return_melted, x="Ativo", y="Retorno",hue="Ativo", palette="Set2", legend=False)
plt.title("Boxplot dos Retornos Diários por Ativos")
plt.xlabel("Ativos")
plt.ylabel("Retorno Diário")
plt.grid(True)
plt.show()





correlation_matrix = returns_df.corr()
sns.heatmap(correlation_matrix, annot=True, cmap="coolwarm", fmt=".2f", linewidths=0.5)
plt.title("Matriz de correlação entre Ativos")
plt.show()





plt.figure(figsize=(12,6))

for ticker, df in all_data.items():
    cumulative_growth = (1 + df["daily_return"]).cumprod()
    plt.plot(cumulative_growth, label=ticker)

plt.title("Crescimento Acumulado do Capital Investido (R$ 1,00)")
plt.xlabel("Data")
plt.ylabel("Capital Acumulado (R$)")
plt.legend()
plt.grid(True)
plt.tight_layout()
plt.show()



